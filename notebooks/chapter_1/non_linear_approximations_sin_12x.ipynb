{
 "cells": [
  {
   "cell_type": "code",
   "execution_count": 15,
   "metadata": {
    "pycharm": {
     "name": "#%%\n"
    }
   },
   "outputs": [],
   "source": [
    "import sys\n",
    "\n",
    "sys.path.append('../../src/')\n",
    "\n",
    "import numpy as np\n",
    "import tensorflow as tf\n",
    "from numpy import sin, exp\n",
    "from tensorflow import keras\n",
    "import os\n",
    "\n",
    "from utils.utils import train_data, plot_results\n",
    "\n",
    "os.environ[\"CUDA_VISIBLE_DEVICES\"] = \"-1\"\n",
    "%matplotlib inline"
   ]
  },
  {
   "cell_type": "code",
   "execution_count": 16,
   "metadata": {
    "pycharm": {
     "name": "#%%\n"
    }
   },
   "outputs": [],
   "source": [
    "name = \"sin(12 * x)\"\n",
    "activation = 'relu'\n",
    "batch_size = 128\n",
    "neurons_number = 128\n",
    "epochs = 25\n",
    "optimize = 'Adam'\n",
    "function_to_approximate = lambda x: sin(12 * x)"
   ]
  },
  {
   "cell_type": "code",
   "execution_count": 17,
   "metadata": {
    "pycharm": {
     "name": "#%%\n"
    }
   },
   "outputs": [
    {
     "name": "stdout",
     "output_type": "stream",
     "text": [
      "Model: \"sequential_3\"\n",
      "_________________________________________________________________\n",
      "Layer (type)                 Output Shape              Param #   \n",
      "=================================================================\n",
      "input (Dense)                (None, 128)               256       \n",
      "_________________________________________________________________\n",
      "dense_12 (Dense)             (None, 128)               16512     \n",
      "_________________________________________________________________\n",
      "dense_13 (Dense)             (None, 128)               16512     \n",
      "_________________________________________________________________\n",
      "dense_14 (Dense)             (None, 128)               16512     \n",
      "_________________________________________________________________\n",
      "dense_15 (Dense)             (None, 128)               16512     \n",
      "_________________________________________________________________\n",
      "output (Dense)               (None, 1)                 129       \n",
      "=================================================================\n",
      "Total params: 66,433\n",
      "Trainable params: 66,433\n",
      "Non-trainable params: 0\n",
      "_________________________________________________________________\n"
     ]
    }
   ],
   "source": [
    "# build the model\n",
    "model = tf.keras.models.Sequential()\n",
    "model.add(keras.layers.Dense(neurons_number, input_shape=(1,), name='input', activation=activation))\n",
    "model.add(keras.layers.Dense(neurons_number, activation=activation))\n",
    "model.add(keras.layers.Dense(neurons_number, activation=activation))\n",
    "model.add(keras.layers.Dense(neurons_number, activation=activation))\n",
    "model.add(keras.layers.Dense(neurons_number, activation=activation))\n",
    "model.add(keras.layers.Dense(1, name='output'))\n",
    "\n",
    "#summary of the model\n",
    "model.summary()\n",
    "model.compile(optimizer=optimize, loss='mean_squared_error', metrics=['mse', 'mean_absolute_error'])"
   ]
  },
  {
   "cell_type": "code",
   "execution_count": 19,
   "metadata": {
    "pycharm": {
     "name": "#%%\n"
    }
   },
   "outputs": [
    {
     "name": "stdout",
     "output_type": "stream",
     "text": [
      "Epoch 1/25\n",
      "6250/6250 [==============================] - 6s 899us/step - loss: 5.8478e-05 - mse: 5.8478e-05 - mean_absolute_error: 0.0039 - val_loss: 0.7822 - val_mse: 0.7822 - val_mean_absolute_error: 0.6989\n",
      "Epoch 2/25\n",
      "6250/6250 [==============================] - 6s 895us/step - loss: 4.8964e-05 - mse: 4.8964e-05 - mean_absolute_error: 0.0036 - val_loss: 0.8465 - val_mse: 0.8465 - val_mean_absolute_error: 0.7301\n",
      "Epoch 3/25\n",
      "6250/6250 [==============================] - 6s 900us/step - loss: 3.9983e-05 - mse: 3.9983e-05 - mean_absolute_error: 0.0035 - val_loss: 0.8380 - val_mse: 0.8380 - val_mean_absolute_error: 0.7251\n",
      "Epoch 4/25\n",
      "6250/6250 [==============================] - 6s 928us/step - loss: 3.8202e-05 - mse: 3.8202e-05 - mean_absolute_error: 0.0032 - val_loss: 0.8634 - val_mse: 0.8634 - val_mean_absolute_error: 0.7415\n",
      "Epoch 5/25\n",
      "6250/6250 [==============================] - 6s 903us/step - loss: 2.9975e-05 - mse: 2.9975e-05 - mean_absolute_error: 0.0029 - val_loss: 0.8562 - val_mse: 0.8562 - val_mean_absolute_error: 0.7350\n",
      "Epoch 6/25\n",
      "6250/6250 [==============================] - 6s 899us/step - loss: 3.0176e-05 - mse: 3.0176e-05 - mean_absolute_error: 0.0026 - val_loss: 0.8418 - val_mse: 0.8418 - val_mean_absolute_error: 0.7292\n",
      "Epoch 7/25\n",
      "6250/6250 [==============================] - 6s 901us/step - loss: 2.7023e-05 - mse: 2.7023e-05 - mean_absolute_error: 0.0029 - val_loss: 0.8225 - val_mse: 0.8225 - val_mean_absolute_error: 0.7189\n",
      "Epoch 8/25\n",
      "6250/6250 [==============================] - 6s 917us/step - loss: 2.5029e-05 - mse: 2.5029e-05 - mean_absolute_error: 0.0026 - val_loss: 0.8086 - val_mse: 0.8086 - val_mean_absolute_error: 0.7112\n",
      "Epoch 9/25\n",
      "6250/6250 [==============================] - 6s 905us/step - loss: 2.2490e-05 - mse: 2.2490e-05 - mean_absolute_error: 0.0027 - val_loss: 0.7695 - val_mse: 0.7695 - val_mean_absolute_error: 0.6865\n",
      "Epoch 10/25\n",
      "6250/6250 [==============================] - 6s 904us/step - loss: 2.1697e-05 - mse: 2.1697e-05 - mean_absolute_error: 0.0026 - val_loss: 0.7931 - val_mse: 0.7931 - val_mean_absolute_error: 0.7043\n",
      "Epoch 11/25\n",
      "6250/6250 [==============================] - 6s 913us/step - loss: 1.8762e-05 - mse: 1.8762e-05 - mean_absolute_error: 0.0024 - val_loss: 0.7764 - val_mse: 0.7764 - val_mean_absolute_error: 0.6966\n",
      "Epoch 12/25\n",
      "6250/6250 [==============================] - 6s 899us/step - loss: 2.1290e-05 - mse: 2.1290e-05 - mean_absolute_error: 0.0019 - val_loss: 0.7596 - val_mse: 0.7596 - val_mean_absolute_error: 0.6879\n",
      "Epoch 13/25\n",
      "6250/6250 [==============================] - 6s 912us/step - loss: 2.0556e-05 - mse: 2.0556e-05 - mean_absolute_error: 0.0024 - val_loss: 0.7509 - val_mse: 0.7509 - val_mean_absolute_error: 0.6850\n",
      "Epoch 14/25\n",
      "6250/6250 [==============================] - 6s 897us/step - loss: 1.8527e-05 - mse: 1.8527e-05 - mean_absolute_error: 0.0023 - val_loss: 0.7256 - val_mse: 0.7256 - val_mean_absolute_error: 0.6708\n",
      "Epoch 15/25\n",
      "6250/6250 [==============================] - 6s 895us/step - loss: 1.7045e-05 - mse: 1.7045e-05 - mean_absolute_error: 0.0020 - val_loss: 0.7447 - val_mse: 0.7447 - val_mean_absolute_error: 0.6794\n",
      "Epoch 16/25\n",
      "6250/6250 [==============================] - 6s 912us/step - loss: 1.7331e-05 - mse: 1.7331e-05 - mean_absolute_error: 0.0022 - val_loss: 0.7331 - val_mse: 0.7331 - val_mean_absolute_error: 0.6735\n",
      "Epoch 17/25\n",
      "6250/6250 [==============================] - 6s 918us/step - loss: 1.7153e-05 - mse: 1.7153e-05 - mean_absolute_error: 0.0019 - val_loss: 0.7323 - val_mse: 0.7323 - val_mean_absolute_error: 0.6735\n",
      "Epoch 18/25\n",
      "6250/6250 [==============================] - 6s 914us/step - loss: 1.5571e-05 - mse: 1.5571e-05 - mean_absolute_error: 0.0022 - val_loss: 0.7423 - val_mse: 0.7423 - val_mean_absolute_error: 0.6763\n",
      "Epoch 19/25\n",
      "6250/6250 [==============================] - 6s 911us/step - loss: 1.6753e-05 - mse: 1.6753e-05 - mean_absolute_error: 0.0020 - val_loss: 0.7610 - val_mse: 0.7610 - val_mean_absolute_error: 0.6859\n",
      "Epoch 20/25\n",
      "6250/6250 [==============================] - 6s 897us/step - loss: 1.4401e-05 - mse: 1.4401e-05 - mean_absolute_error: 0.0020 - val_loss: 0.7604 - val_mse: 0.7604 - val_mean_absolute_error: 0.6864\n",
      "Epoch 21/25\n",
      "6250/6250 [==============================] - 6s 899us/step - loss: 1.3815e-05 - mse: 1.3815e-05 - mean_absolute_error: 0.0019 - val_loss: 0.7536 - val_mse: 0.7536 - val_mean_absolute_error: 0.6836\n",
      "Epoch 22/25\n",
      "6250/6250 [==============================] - 6s 897us/step - loss: 1.3737e-05 - mse: 1.3737e-05 - mean_absolute_error: 0.0020 - val_loss: 0.7526 - val_mse: 0.7526 - val_mean_absolute_error: 0.6825\n",
      "Epoch 23/25\n",
      "6250/6250 [==============================] - 6s 894us/step - loss: 1.3476e-05 - mse: 1.3476e-05 - mean_absolute_error: 0.0020 - val_loss: 0.7494 - val_mse: 0.7494 - val_mean_absolute_error: 0.6802\n",
      "Epoch 24/25\n",
      "6250/6250 [==============================] - 6s 900us/step - loss: 1.3351e-05 - mse: 1.3351e-05 - mean_absolute_error: 0.0020 - val_loss: 0.7563 - val_mse: 0.7563 - val_mean_absolute_error: 0.6835\n",
      "Epoch 25/25\n",
      "6250/6250 [==============================] - 5s 876us/step - loss: 1.2544e-05 - mse: 1.2544e-05 - mean_absolute_error: 0.0019 - val_loss: 0.7551 - val_mse: 0.7551 - val_mean_absolute_error: 0.6817\n"
     ]
    },
    {
     "data": {
      "text/plain": [
       "<tensorflow.python.keras.callbacks.History at 0x7f361806ba30>"
      ]
     },
     "execution_count": 19,
     "metadata": {},
     "output_type": "execute_result"
    }
   ],
   "source": [
    "X_train, Y_train = train_data(start=0, end=0.8, number=1000000, f=function_to_approximate)\n",
    "model.fit(X_train, Y_train, batch_size=batch_size, epochs=epochs, verbose=1, validation_split=0.2)"
   ]
  },
  {
   "cell_type": "code",
   "execution_count": 20,
   "metadata": {
    "pycharm": {
     "name": "#%%\n"
    }
   },
   "outputs": [
    {
     "name": "stdout",
     "output_type": "stream",
     "text": [
      "11/11 [==============================] - 0s 315us/step - loss: 1.6454 - mse: 1.6454 - mean_absolute_error: 0.6573      \n"
     ]
    }
   ],
   "source": [
    "X_test, Y_test = train_data(start=0, end=1.0, number=333, f=function_to_approximate)\n",
    "loss, mse, mean_absolute_error = model.evaluate(X_test, Y_test)"
   ]
  },
  {
   "cell_type": "code",
   "execution_count": null,
   "metadata": {
    "pycharm": {
     "name": "#%%\n"
    }
   },
   "outputs": [],
   "source": [
    "X_predicted = np.linspace(0, 1.0, 150)\n",
    "Y_predicted = model.predict(X_predicted).reshape((150,))\n",
    "\n",
    "plot_results(X_train, Y_train, X_predicted, Y_predicted, name, mean_absolute_error, 0.8, function_to_approximate)"
   ]
  }
 ],
 "metadata": {
  "kernelspec": {
   "display_name": "tensorflow-gpu",
   "language": "python",
   "name": "tensorflow-gpu"
  },
  "language_info": {
   "codemirror_mode": {
    "name": "ipython",
    "version": 3
   },
   "file_extension": ".py",
   "mimetype": "text/x-python",
   "name": "python",
   "nbconvert_exporter": "python",
   "pygments_lexer": "ipython3",
   "version": "3.9.6"
  }
 },
 "nbformat": 4,
 "nbformat_minor": 1
}
