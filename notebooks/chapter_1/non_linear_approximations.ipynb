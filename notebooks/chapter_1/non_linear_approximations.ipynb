{
 "cells": [
  {
   "cell_type": "code",
   "execution_count": 6,
   "metadata": {
    "pycharm": {
     "name": "#%%\n"
    }
   },
   "outputs": [],
   "source": [
    "import sys\n",
    "\n",
    "sys.path.append('../../src/')\n",
    "\n",
    "import numpy as np\n",
    "import tensorflow as tf\n",
    "from numpy import sin\n",
    "from tensorflow import keras\n",
    "import os\n",
    "\n",
    "from utils.utils import train_data, plot_results\n",
    "\n",
    "os.environ[\"CUDA_VISIBLE_DEVICES\"] = \"-1\""
   ]
  },
  {
   "cell_type": "code",
   "execution_count": 7,
   "metadata": {
    "pycharm": {
     "name": "#%%\n"
    }
   },
   "outputs": [],
   "source": [
    "name = \"Reference\"\n",
    "activation = 'relu'\n",
    "batch_size = 64\n",
    "neurons_number = 64\n",
    "epochs = 40\n",
    "optimize = 'Adam'"
   ]
  },
  {
   "cell_type": "code",
   "execution_count": 9,
   "metadata": {
    "pycharm": {
     "name": "#%%\n"
    }
   },
   "outputs": [
    {
     "name": "stdout",
     "output_type": "stream",
     "text": [
      "Model: \"sequential_3\"\n",
      "_________________________________________________________________\n",
      "Layer (type)                 Output Shape              Param #   \n",
      "=================================================================\n",
      "input (Dense)                (None, 64)                128       \n",
      "_________________________________________________________________\n",
      "dense_9 (Dense)              (None, 64)                4160      \n",
      "_________________________________________________________________\n",
      "dense_10 (Dense)             (None, 64)                4160      \n",
      "_________________________________________________________________\n",
      "dense_11 (Dense)             (None, 64)                4160      \n",
      "_________________________________________________________________\n",
      "dense_12 (Dense)             (None, 64)                4160      \n",
      "_________________________________________________________________\n",
      "dense_13 (Dense)             (None, 64)                4160      \n",
      "_________________________________________________________________\n",
      "output (Dense)               (None, 1)                 65        \n",
      "=================================================================\n",
      "Total params: 20,993\n",
      "Trainable params: 20,993\n",
      "Non-trainable params: 0\n",
      "_________________________________________________________________\n"
     ]
    }
   ],
   "source": [
    "# build the model\n",
    "model = tf.keras.models.Sequential()\n",
    "model.add(keras.layers.Dense(neurons_number, input_shape=(1,), name='input', activation=activation))\n",
    "model.add(keras.layers.Dense(neurons_number, activation=activation))\n",
    "model.add(keras.layers.Dropout(0.2))\n",
    "model.add(keras.layers.Dense(neurons_number, activation=activation))\n",
    "model.add(keras.layers.Dropout(0.2))\n",
    "model.add(keras.layers.Dense(neurons_number, activation=activation))\n",
    "model.add(keras.layers.Dropout(0.2))\n",
    "model.add(keras.layers.Dense(neurons_number, activation=activation))\n",
    "model.add(keras.layers.Dropout(0.2))\n",
    "model.add(keras.layers.Dense(neurons_number, activation=activation))\n",
    "model.add(keras.layers.Dense(1, name='output'))\n",
    "\n",
    "# summary of the model\n",
    "model.summary()\n",
    "model.compile(optimizer=optimize, loss='mean_squared_error', metrics=['mse', 'mean_absolute_error'])"
   ]
  },
  {
   "cell_type": "code",
   "execution_count": 10,
   "metadata": {
    "pycharm": {
     "name": "#%%\n"
    }
   },
   "outputs": [
    {
     "name": "stdout",
     "output_type": "stream",
     "text": [
      "Epoch 1/20\n",
      "63/63 [==============================] - 0s 2ms/step - loss: 0.3422 - mse: 0.3422 - mean_absolute_error: 0.4964 - val_loss: 2.7765 - val_mse: 2.7765 - val_mean_absolute_error: 1.6328\n",
      "Epoch 2/20\n",
      "63/63 [==============================] - 0s 984us/step - loss: 0.0709 - mse: 0.0709 - mean_absolute_error: 0.1946 - val_loss: 1.4669 - val_mse: 1.4669 - val_mean_absolute_error: 1.1820\n",
      "Epoch 3/20\n",
      "63/63 [==============================] - 0s 968us/step - loss: 0.0115 - mse: 0.0115 - mean_absolute_error: 0.0621 - val_loss: 0.3843 - val_mse: 0.3843 - val_mean_absolute_error: 0.5775\n",
      "Epoch 4/20\n",
      "63/63 [==============================] - 0s 927us/step - loss: 3.8340e-04 - mse: 3.8340e-04 - mean_absolute_error: 0.0132 - val_loss: 0.3225 - val_mse: 0.3225 - val_mean_absolute_error: 0.5234\n",
      "Epoch 5/20\n",
      "63/63 [==============================] - 0s 959us/step - loss: 3.5458e-05 - mse: 3.5458e-05 - mean_absolute_error: 0.0040 - val_loss: 0.3020 - val_mse: 0.3020 - val_mean_absolute_error: 0.5042\n",
      "Epoch 6/20\n",
      "63/63 [==============================] - 0s 978us/step - loss: 1.9190e-05 - mse: 1.9190e-05 - mean_absolute_error: 0.0032 - val_loss: 0.2919 - val_mse: 0.2919 - val_mean_absolute_error: 0.4947\n",
      "Epoch 7/20\n",
      "63/63 [==============================] - 0s 999us/step - loss: 1.0053e-05 - mse: 1.0053e-05 - mean_absolute_error: 0.0023 - val_loss: 0.2860 - val_mse: 0.2860 - val_mean_absolute_error: 0.4888\n",
      "Epoch 8/20\n",
      "63/63 [==============================] - 0s 1ms/step - loss: 7.2433e-06 - mse: 7.2433e-06 - mean_absolute_error: 0.0020 - val_loss: 0.2835 - val_mse: 0.2835 - val_mean_absolute_error: 0.4866\n",
      "Epoch 9/20\n",
      "63/63 [==============================] - 0s 934us/step - loss: 5.8738e-06 - mse: 5.8738e-06 - mean_absolute_error: 0.0018 - val_loss: 0.2812 - val_mse: 0.2812 - val_mean_absolute_error: 0.4845\n",
      "Epoch 10/20\n",
      "63/63 [==============================] - 0s 1ms/step - loss: 1.9754e-04 - mse: 1.9754e-04 - mean_absolute_error: 0.0083 - val_loss: 0.3323 - val_mse: 0.3323 - val_mean_absolute_error: 0.5339\n",
      "Epoch 11/20\n",
      "63/63 [==============================] - 0s 947us/step - loss: 5.1578e-04 - mse: 5.1578e-04 - mean_absolute_error: 0.0170 - val_loss: 0.3078 - val_mse: 0.3078 - val_mean_absolute_error: 0.5084\n",
      "Epoch 12/20\n",
      "63/63 [==============================] - 0s 1ms/step - loss: 1.2939e-04 - mse: 1.2939e-04 - mean_absolute_error: 0.0086 - val_loss: 0.3000 - val_mse: 0.3000 - val_mean_absolute_error: 0.5014\n",
      "Epoch 13/20\n",
      "63/63 [==============================] - 0s 982us/step - loss: 4.3808e-06 - mse: 4.3808e-06 - mean_absolute_error: 0.0015 - val_loss: 0.2927 - val_mse: 0.2927 - val_mean_absolute_error: 0.4945\n",
      "Epoch 14/20\n",
      "63/63 [==============================] - 0s 958us/step - loss: 2.7876e-06 - mse: 2.7876e-06 - mean_absolute_error: 0.0012 - val_loss: 0.2881 - val_mse: 0.2881 - val_mean_absolute_error: 0.4900\n",
      "Epoch 15/20\n",
      "63/63 [==============================] - 0s 1ms/step - loss: 2.6164e-06 - mse: 2.6164e-06 - mean_absolute_error: 0.0013 - val_loss: 0.2850 - val_mse: 0.2850 - val_mean_absolute_error: 0.4869\n",
      "Epoch 16/20\n",
      "63/63 [==============================] - 0s 909us/step - loss: 2.1696e-06 - mse: 2.1696e-06 - mean_absolute_error: 0.0011 - val_loss: 0.2836 - val_mse: 0.2836 - val_mean_absolute_error: 0.4856\n",
      "Epoch 17/20\n",
      "63/63 [==============================] - 0s 954us/step - loss: 1.2790e-06 - mse: 1.2790e-06 - mean_absolute_error: 8.6573e-04 - val_loss: 0.2810 - val_mse: 0.2810 - val_mean_absolute_error: 0.4828\n",
      "Epoch 18/20\n",
      "63/63 [==============================] - 0s 1ms/step - loss: 1.2658e-05 - mse: 1.2658e-05 - mean_absolute_error: 0.0024 - val_loss: 0.2819 - val_mse: 0.2819 - val_mean_absolute_error: 0.4840\n",
      "Epoch 19/20\n",
      "63/63 [==============================] - 0s 990us/step - loss: 1.7124e-04 - mse: 1.7124e-04 - mean_absolute_error: 0.0072 - val_loss: 0.3219 - val_mse: 0.3219 - val_mean_absolute_error: 0.5217\n",
      "Epoch 20/20\n",
      "63/63 [==============================] - 0s 1ms/step - loss: 4.7814e-05 - mse: 4.7814e-05 - mean_absolute_error: 0.0048 - val_loss: 0.2952 - val_mse: 0.2952 - val_mean_absolute_error: 0.4963\n"
     ]
    },
    {
     "data": {
      "text/plain": [
       "<tensorflow.python.keras.callbacks.History at 0x7f99c02f5940>"
      ]
     },
     "execution_count": 10,
     "metadata": {},
     "output_type": "execute_result"
    }
   ],
   "source": [
    "X_train, Y_train = train_data(start=0, end=0.8, number=10000, f=lambda x: sin(10 * x))\n",
    "model.fit(X_train, Y_train, batch_size=batch_size, epochs=epochs, verbose=1, validation_split=0.2)"
   ]
  },
  {
   "cell_type": "code",
   "execution_count": 11,
   "metadata": {
    "pycharm": {
     "name": "#%%\n"
    }
   },
   "outputs": [
    {
     "name": "stdout",
     "output_type": "stream",
     "text": [
      "11/11 [==============================] - 0s 287us/step - loss: 0.1045 - mse: 0.1045 - mean_absolute_error: 0.1741  \n"
     ]
    }
   ],
   "source": [
    "X_test, Y_test = train_data(start=0, end=1.0, number=333, f=lambda x: sin(10 * x))\n",
    "loss, mse, mean_absolute_error = model.evaluate(X_test, Y_test)"
   ]
  },
  {
   "cell_type": "code",
   "execution_count": 1,
   "metadata": {
    "pycharm": {
     "name": "#%%\n"
    }
   },
   "outputs": [
    {
     "ename": "NameError",
     "evalue": "name 'np' is not defined",
     "output_type": "error",
     "traceback": [
      "\u001B[0;31m---------------------------------------------------------------------------\u001B[0m",
      "\u001B[0;31mNameError\u001B[0m                                 Traceback (most recent call last)",
      "\u001B[0;32m<ipython-input-1-268de91891b8>\u001B[0m in \u001B[0;36m<module>\u001B[0;34m\u001B[0m\n\u001B[0;32m----> 1\u001B[0;31m \u001B[0mgrid\u001B[0m \u001B[0;34m=\u001B[0m \u001B[0mnp\u001B[0m\u001B[0;34m.\u001B[0m\u001B[0mlinspace\u001B[0m\u001B[0;34m(\u001B[0m\u001B[0;36m0\u001B[0m\u001B[0;34m,\u001B[0m \u001B[0;36m1.0\u001B[0m\u001B[0;34m,\u001B[0m \u001B[0;36m150\u001B[0m\u001B[0;34m)\u001B[0m\u001B[0;34m\u001B[0m\u001B[0;34m\u001B[0m\u001B[0m\n\u001B[0m\u001B[1;32m      2\u001B[0m \u001B[0mpredicted\u001B[0m \u001B[0;34m=\u001B[0m \u001B[0mmodel\u001B[0m\u001B[0;34m.\u001B[0m\u001B[0mpredict\u001B[0m\u001B[0;34m(\u001B[0m\u001B[0mgrid\u001B[0m\u001B[0;34m)\u001B[0m\u001B[0;34m.\u001B[0m\u001B[0mreshape\u001B[0m\u001B[0;34m(\u001B[0m\u001B[0;34m(\u001B[0m\u001B[0;36m150\u001B[0m\u001B[0;34m,\u001B[0m\u001B[0;34m)\u001B[0m\u001B[0;34m)\u001B[0m\u001B[0;34m\u001B[0m\u001B[0;34m\u001B[0m\u001B[0m\n\u001B[1;32m      3\u001B[0m \u001B[0;34m\u001B[0m\u001B[0m\n\u001B[1;32m      4\u001B[0m \u001B[0mplot_results\u001B[0m\u001B[0;34m(\u001B[0m\u001B[0mgrid\u001B[0m\u001B[0;34m,\u001B[0m \u001B[0mpredicted\u001B[0m\u001B[0;34m,\u001B[0m \u001B[0mname\u001B[0m\u001B[0;34m,\u001B[0m \u001B[0mmean_absolute_error\u001B[0m\u001B[0;34m,\u001B[0m \u001B[0;36m0.8\u001B[0m\u001B[0;34m)\u001B[0m\u001B[0;34m\u001B[0m\u001B[0;34m\u001B[0m\u001B[0m\n",
      "\u001B[0;31mNameError\u001B[0m: name 'np' is not defined"
     ]
    }
   ],
   "source": [
    "X_predicted = np.linspace(0, 1.0, 150)\n",
    "Y_predicted = model.predict(X_predicted).reshape((150,))\n",
    "\n",
    "plot_results(X_train, Y_train, X_predicted, Y_predicted, name, mean_absolute_error, 0.8)"
   ]
  }
 ],
 "metadata": {
  "kernelspec": {
   "display_name": "tensorflow-gpu",
   "language": "python",
   "name": "tensorflow-gpu"
  },
  "language_info": {
   "codemirror_mode": {
    "name": "ipython",
    "version": 3
   },
   "file_extension": ".py",
   "mimetype": "text/x-python",
   "name": "python",
   "nbconvert_exporter": "python",
   "pygments_lexer": "ipython3",
   "version": "3.9.6"
  }
 },
 "nbformat": 4,
 "nbformat_minor": 1
}