{
 "cells": [
  {
   "cell_type": "code",
   "execution_count": 1,
   "metadata": {
    "pycharm": {
     "name": "#%%\n"
    }
   },
   "outputs": [],
   "source": [
    "import sys\n",
    "sys.path.append('../../src/')\n",
    "\n",
    "import numpy as np\n",
    "import tensorflow as tf\n",
    "from tensorflow import keras\n",
    "import seaborn as sns\n",
    "import pandas as pd\n",
    "import os\n",
    "from matplotlib import pyplot\n",
    "import matplotlib.pyplot as plt\n",
    "from utils.utils import train_data, plot_results\n",
    "\n",
    "\n",
    "%matplotlib inline\n",
    "os.environ[\"CUDA_VISIBLE_DEVICES\"] = \"-1\""
   ]
  },
  {
   "cell_type": "code",
   "execution_count": 2,
   "metadata": {
    "pycharm": {
     "name": "#%%"
    }
   },
   "outputs": [],
   "source": [
    "name = '6400 neurons per layer'\n",
    "activation = 'relu'\n",
    "batch_size = 128\n",
    "neurons_number = 6400\n",
    "epochs = 20\n",
    "optimize = 'Adam'"
   ]
  },
  {
   "cell_type": "code",
   "execution_count": 3,
   "metadata": {},
   "outputs": [
    {
     "name": "stdout",
     "output_type": "stream",
     "text": [
      "Model: \"sequential\"\n",
      "_________________________________________________________________\n",
      "Layer (type)                 Output Shape              Param #   \n",
      "=================================================================\n",
      "input (Dense)                (None, 6400)              12800     \n",
      "_________________________________________________________________\n",
      "dense (Dense)                (None, 6400)              40966400  \n",
      "_________________________________________________________________\n",
      "dense_1 (Dense)              (None, 6400)              40966400  \n",
      "_________________________________________________________________\n",
      "dense_2 (Dense)              (None, 6400)              40966400  \n",
      "_________________________________________________________________\n",
      "output (Dense)               (None, 1)                 6401      \n",
      "=================================================================\n",
      "Total params: 122,918,401\n",
      "Trainable params: 122,918,401\n",
      "Non-trainable params: 0\n",
      "_________________________________________________________________\n"
     ]
    }
   ],
   "source": [
    "# build the model\n",
    "model = tf.keras.models.Sequential()\n",
    "model.add(keras.layers.Dense(neurons_number, input_shape=(1,), name='input', activation=activation))\n",
    "model.add(keras.layers.Dense(neurons_number, activation=activation))\n",
    "model.add(keras.layers.Dense(neurons_number, activation=activation))\n",
    "model.add(keras.layers.Dense(neurons_number, activation=activation))\n",
    "model.add(keras.layers.Dense(1, name='output'))\n",
    "# summary of the model\n",
    "model.summary()\n",
    "model.compile(optimizer=optimize, loss='mean_squared_error', metrics=['mse', 'mean_absolute_error'])"
   ]
  },
  {
   "cell_type": "code",
   "execution_count": null,
   "metadata": {},
   "outputs": [
    {
     "name": "stdout",
     "output_type": "stream",
     "text": [
      "Epoch 1/20\n",
      "63/63 [==============================] - 29s 453ms/step - loss: 0.1590 - mse: 0.1590 - mean_absolute_error: 0.2179 - val_loss: 8.7064e-04 - val_mse: 8.7064e-04 - val_mean_absolute_error: 0.0282\n",
      "Epoch 2/20\n",
      "63/63 [==============================] - 28s 453ms/step - loss: 1.6443e-05 - mse: 1.6443e-05 - mean_absolute_error: 0.0026 - val_loss: 1.0851e-04 - val_mse: 1.0851e-04 - val_mean_absolute_error: 0.0090\n",
      "Epoch 3/20\n",
      "63/63 [==============================] - 28s 445ms/step - loss: 8.1565e-08 - mse: 8.1565e-08 - mean_absolute_error: 1.9568e-04 - val_loss: 8.5877e-05 - val_mse: 8.5877e-05 - val_mean_absolute_error: 0.0078\n",
      "Epoch 4/20\n",
      "35/63 [===============>..............] - ETA: 12s - loss: 3.9028e-08 - mse: 3.9028e-08 - mean_absolute_error: 1.3946e-04"
     ]
    }
   ],
   "source": [
    "X_train, Y_train = train_data(start=0, end=0.8, number=10000)\n",
    "model.fit(X_train, Y_train, batch_size=batch_size, epochs=epochs, verbose=1, validation_split=0.2)"
   ]
  },
  {
   "cell_type": "code",
   "execution_count": null,
   "metadata": {},
   "outputs": [],
   "source": [
    "X_test, Y_test = train_data(start=0, end=1.0, number=333)\n",
    "loss, mse, mean_absolute_error = model.evaluate(X_test, Y_test)"
   ]
  },
  {
   "cell_type": "code",
   "execution_count": null,
   "metadata": {
    "pycharm": {
     "name": "#%%\n"
    }
   },
   "outputs": [],
   "source": [
    "grid = np.linspace(0, 1.0, 150)\n",
    "predicted = model.predict(grid).reshape((150,))\n",
    "\n",
    "plot_results(grid, predicted, name, mean_absolute_error, 0.8)"
   ]
  },
  {
   "cell_type": "code",
   "execution_count": null,
   "metadata": {},
   "outputs": [],
   "source": []
  }
 ],
 "metadata": {
  "kernelspec": {
   "display_name": "tensorflow-gpu",
   "language": "python",
   "name": "tensorflow-gpu"
  },
  "language_info": {
   "codemirror_mode": {
    "name": "ipython",
    "version": 3
   },
   "file_extension": ".py",
   "mimetype": "text/x-python",
   "name": "python",
   "nbconvert_exporter": "python",
   "pygments_lexer": "ipython3",
   "version": "3.9.6"
  }
 },
 "nbformat": 4,
 "nbformat_minor": 1
}
